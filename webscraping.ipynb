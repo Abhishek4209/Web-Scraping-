{
 "cells": [
  {
   "cell_type": "code",
   "execution_count": 1,
   "id": "689e0e26-cb22-4256-98f4-576229c2e626",
   "metadata": {},
   "outputs": [],
   "source": [
    "import requests\n",
    "from bs4 import BeautifulSoup as bs\n",
    "from urllib.request import urlopen \n",
    "import logging"
   ]
  },
  {
   "cell_type": "code",
   "execution_count": 2,
   "id": "ffa9e712-1ad7-4f58-b239-a14f3679c449",
   "metadata": {},
   "outputs": [],
   "source": [
    "flipcart_url = \"https://www.flipkart.com/search?q=\" + \"redmi\""
   ]
  },
  {
   "cell_type": "code",
   "execution_count": 3,
   "id": "e5af41ed-3b95-474e-bfe9-f8b645b9020f",
   "metadata": {},
   "outputs": [
    {
     "data": {
      "text/plain": [
       "'https://www.flipkart.com/search?q=redmi'"
      ]
     },
     "execution_count": 3,
     "metadata": {},
     "output_type": "execute_result"
    }
   ],
   "source": [
    "flipcart_url"
   ]
  },
  {
   "cell_type": "code",
   "execution_count": 4,
   "id": "96cf0f41-0c8b-4c7f-b577-677f6ab8f0d1",
   "metadata": {},
   "outputs": [],
   "source": [
    "urlclient = urlopen(flipcart_url)"
   ]
  },
  {
   "cell_type": "code",
   "execution_count": 5,
   "id": "4c23b825-2b1e-4210-b18d-5c32e2503472",
   "metadata": {},
   "outputs": [
    {
     "data": {
      "text/plain": [
       "<http.client.HTTPResponse at 0x1b38affba00>"
      ]
     },
     "execution_count": 5,
     "metadata": {},
     "output_type": "execute_result"
    }
   ],
   "source": [
    "urlclient"
   ]
  },
  {
   "cell_type": "code",
   "execution_count": 6,
   "id": "3ae77c06-5955-4472-80cc-65fa80b78e95",
   "metadata": {},
   "outputs": [],
   "source": [
    "flipcart_page = urlclient.read()"
   ]
  },
  {
   "cell_type": "code",
   "execution_count": 7,
   "id": "2214e164-420d-4298-b57b-9b3b32c81873",
   "metadata": {},
   "outputs": [],
   "source": [
    "flipcart_html = bs(flipcart_page,'html.parser')"
   ]
  },
  {
   "cell_type": "code",
   "execution_count": 8,
   "id": "91a12471-f030-4a12-b56f-9a7c026647e1",
   "metadata": {},
   "outputs": [
    {
     "data": {
      "text/plain": [
       "'https://www.flipkart.com/apple-iphone-12-pro-gold-512-gb/p/itm157b3be191fd1?pid=MOBFWBYZGKFYVTWH&lid=LSTMOBFWBYZGKFYVTWHR65UKC&marketplace=FLIPKART&q=iphone12pro&store=tyy%2F4io&srno=s_1_2&otracker=search&iid=68136d77-b91a-42de-a358-1a7956c836a5.MOBFWBYZGKFYVTWH.SEARCH&ssid=ogmp5gq1740000001676967134521&qH=712933e6bd68e7b9'"
      ]
     },
     "execution_count": 8,
     "metadata": {},
     "output_type": "execute_result"
    }
   ],
   "source": [
    "\"https://www.flipkart.com/\"+\"apple-iphone-12-pro-gold-512-gb/p/itm157b3be191fd1?pid=MOBFWBYZGKFYVTWH&lid=LSTMOBFWBYZGKFYVTWHR65UKC&marketplace=FLIPKART&q=iphone12pro&store=tyy%2F4io&srno=s_1_2&otracker=search&iid=68136d77-b91a-42de-a358-1a7956c836a5.MOBFWBYZGKFYVTWH.SEARCH&ssid=ogmp5gq1740000001676967134521&qH=712933e6bd68e7b9\""
   ]
  },
  {
   "cell_type": "code",
   "execution_count": 9,
   "id": "1d3cf9c0-9b5a-453d-b5fd-f8248d9c8761",
   "metadata": {},
   "outputs": [],
   "source": [
    "bigbox = flipcart_html.findAll(\"div\" , {\"class\":\"_1AtVbE col-12-12\"})"
   ]
  },
  {
   "cell_type": "code",
   "execution_count": 10,
   "id": "8c1df9d5-7746-4555-9230-83dde49e7b8b",
   "metadata": {},
   "outputs": [
    {
     "data": {
      "text/plain": [
       "30"
      ]
     },
     "execution_count": 10,
     "metadata": {},
     "output_type": "execute_result"
    }
   ],
   "source": [
    "len(bigbox)"
   ]
  },
  {
   "cell_type": "code",
   "execution_count": 11,
   "id": "7913c487-bf45-4621-b485-1053d7260de8",
   "metadata": {},
   "outputs": [],
   "source": [
    "del bigbox[0:3]"
   ]
  },
  {
   "cell_type": "code",
   "execution_count": 12,
   "id": "c0d2a6a3-fa74-4009-b27c-39b205bf4ac3",
   "metadata": {},
   "outputs": [],
   "source": [
    "productlink = \"https://www.flipkart.com\" +bigbox[3].div.div.div.a['href']"
   ]
  },
  {
   "cell_type": "code",
   "execution_count": 13,
   "id": "7bca4d56-ef2d-40d0-8d0b-0baa829ca99a",
   "metadata": {},
   "outputs": [],
   "source": [
    "product_req = requests.get(productlink)"
   ]
  },
  {
   "cell_type": "code",
   "execution_count": 14,
   "id": "cd43809e-3ddc-4662-9a16-9966769cfa4a",
   "metadata": {},
   "outputs": [
    {
     "data": {
      "text/plain": [
       "'https://www.flipkart.com/redmi-12-moonstone-silver-128-gb/p/itm6722b15672602?pid=MOBGRMFK4CSR7GGH&lid=LSTMOBGRMFK4CSR7GGHQLQFHC&marketplace=FLIPKART&q=redmi&store=tyy%2F4io&srno=s_1_5&otracker=search&fm=organic&iid=2ea0ef9d-9f43-418b-970b-03504af8fa8c.MOBGRMFK4CSR7GGH.SEARCH&ppt=None&ppn=None&ssid=ftseib5q000000001703223117434&qH=9b6bf0057c19bd94'"
      ]
     },
     "execution_count": 14,
     "metadata": {},
     "output_type": "execute_result"
    }
   ],
   "source": [
    "productlink"
   ]
  },
  {
   "cell_type": "code",
   "execution_count": 15,
   "id": "08eb4187-f282-4671-ba45-33140f6eb997",
   "metadata": {},
   "outputs": [],
   "source": [
    "product_html = bs(product_req.text,'html.parser')"
   ]
  },
  {
   "cell_type": "code",
   "execution_count": 16,
   "id": "240ef958-fac0-43fb-b845-3fb33ae7d400",
   "metadata": {},
   "outputs": [],
   "source": [
    "comment_box = product_html.find_all(\"div\",{\"class\" : \"_16PBlm\"})"
   ]
  },
  {
   "cell_type": "code",
   "execution_count": 17,
   "id": "f2f6ff95-f6ad-4a6b-a76b-9a7a63c083db",
   "metadata": {},
   "outputs": [
    {
     "data": {
      "text/plain": [
       "11"
      ]
     },
     "execution_count": 17,
     "metadata": {},
     "output_type": "execute_result"
    }
   ],
   "source": [
    "len(comment_box)"
   ]
  },
  {
   "cell_type": "code",
   "execution_count": 18,
   "id": "e8ad75c1-f6a1-4d61-8b56-1771c4d02bbd",
   "metadata": {},
   "outputs": [
    {
     "name": "stdout",
     "output_type": "stream",
     "text": [
      "Pritam Chaudhury \n",
      "Shadik Hussain\n",
      "Udhab Das\n",
      "Shahrukh  Pathan\n",
      "Govinda Hosoor\n",
      "Rahul kushwah\n",
      "Sandis Girish\n",
      "Sentu Majee\n",
      "Prabhat Ranjan\n",
      "Rakesh Sing\n"
     ]
    },
    {
     "ename": "AttributeError",
     "evalue": "'NoneType' object has no attribute 'div'",
     "output_type": "error",
     "traceback": [
      "\u001b[1;31m---------------------------------------------------------------------------\u001b[0m",
      "\u001b[1;31mAttributeError\u001b[0m                            Traceback (most recent call last)",
      "Cell \u001b[1;32mIn[18], line 2\u001b[0m\n\u001b[0;32m      1\u001b[0m \u001b[38;5;28;01mfor\u001b[39;00m i \u001b[38;5;129;01min\u001b[39;00m comment_box:\n\u001b[1;32m----> 2\u001b[0m     \u001b[38;5;28mprint\u001b[39m(\u001b[43mi\u001b[49m\u001b[38;5;241;43m.\u001b[39;49m\u001b[43mdiv\u001b[49m\u001b[38;5;241;43m.\u001b[39;49m\u001b[43mdiv\u001b[49m\u001b[38;5;241m.\u001b[39mfind_all(\u001b[38;5;124m'\u001b[39m\u001b[38;5;124mp\u001b[39m\u001b[38;5;124m'\u001b[39m,{\u001b[38;5;124m\"\u001b[39m\u001b[38;5;124mclass\u001b[39m\u001b[38;5;124m\"\u001b[39m:\u001b[38;5;124m\"\u001b[39m\u001b[38;5;124m_2sc7ZR _2V5EHH\u001b[39m\u001b[38;5;124m\"\u001b[39m})[\u001b[38;5;241m0\u001b[39m]\u001b[38;5;241m.\u001b[39mtext)\n",
      "\u001b[1;31mAttributeError\u001b[0m: 'NoneType' object has no attribute 'div'"
     ]
    }
   ],
   "source": [
    "for i in comment_box:\n",
    "    print(i.div.div.find_all('p',{\"class\":\"_2sc7ZR _2V5EHH\"})[0].text)"
   ]
  },
  {
   "cell_type": "code",
   "execution_count": 19,
   "id": "ceb3242f-67ae-425e-bc2d-4c9fdd0a5a0f",
   "metadata": {},
   "outputs": [
    {
     "name": "stdout",
     "output_type": "stream",
     "text": [
      "5\n",
      "5\n",
      "5\n",
      "5\n",
      "5\n",
      "5\n",
      "5\n",
      "5\n",
      "4\n",
      "4\n"
     ]
    },
    {
     "ename": "AttributeError",
     "evalue": "'NoneType' object has no attribute 'div'",
     "output_type": "error",
     "traceback": [
      "\u001b[1;31m---------------------------------------------------------------------------\u001b[0m",
      "\u001b[1;31mAttributeError\u001b[0m                            Traceback (most recent call last)",
      "Cell \u001b[1;32mIn[19], line 2\u001b[0m\n\u001b[0;32m      1\u001b[0m \u001b[38;5;28;01mfor\u001b[39;00m i \u001b[38;5;129;01min\u001b[39;00m comment_box:\n\u001b[1;32m----> 2\u001b[0m     \u001b[38;5;28mprint\u001b[39m(\u001b[43mi\u001b[49m\u001b[38;5;241;43m.\u001b[39;49m\u001b[43mdiv\u001b[49m\u001b[38;5;241;43m.\u001b[39;49m\u001b[43mdiv\u001b[49m\u001b[38;5;241m.\u001b[39mdiv\u001b[38;5;241m.\u001b[39mdiv\u001b[38;5;241m.\u001b[39mtext)\n",
      "\u001b[1;31mAttributeError\u001b[0m: 'NoneType' object has no attribute 'div'"
     ]
    }
   ],
   "source": [
    "for i in comment_box:\n",
    "    print(i.div.div.div.div.text)"
   ]
  },
  {
   "cell_type": "code",
   "execution_count": 20,
   "id": "d75d40c0-e013-4346-ba09-08064274c50c",
   "metadata": {},
   "outputs": [
    {
     "name": "stdout",
     "output_type": "stream",
     "text": [
      "Just wow!\n",
      "Just wow!\n",
      "Must buy!\n",
      "Worth every penny\n",
      "Best in the market!\n",
      "Fabulous!\n",
      "Terrific purchase\n",
      "Mind-blowing purchase\n",
      "Really Nice\n",
      "Really Nice\n"
     ]
    },
    {
     "ename": "AttributeError",
     "evalue": "'NoneType' object has no attribute 'div'",
     "output_type": "error",
     "traceback": [
      "\u001b[1;31m---------------------------------------------------------------------------\u001b[0m",
      "\u001b[1;31mAttributeError\u001b[0m                            Traceback (most recent call last)",
      "Cell \u001b[1;32mIn[20], line 2\u001b[0m\n\u001b[0;32m      1\u001b[0m \u001b[38;5;28;01mfor\u001b[39;00m i \u001b[38;5;129;01min\u001b[39;00m comment_box:\n\u001b[1;32m----> 2\u001b[0m     \u001b[38;5;28mprint\u001b[39m(\u001b[43mi\u001b[49m\u001b[38;5;241;43m.\u001b[39;49m\u001b[43mdiv\u001b[49m\u001b[38;5;241;43m.\u001b[39;49m\u001b[43mdiv\u001b[49m\u001b[38;5;241m.\u001b[39mdiv\u001b[38;5;241m.\u001b[39mp\u001b[38;5;241m.\u001b[39mtext)\n",
      "\u001b[1;31mAttributeError\u001b[0m: 'NoneType' object has no attribute 'div'"
     ]
    }
   ],
   "source": [
    "for i in comment_box:\n",
    "    print(i.div.div.div.p.text)"
   ]
  },
  {
   "cell_type": "code",
   "execution_count": 21,
   "id": "849be372-d32d-4bb1-a4e6-0fc0b41ad499",
   "metadata": {},
   "outputs": [
    {
     "data": {
      "text/plain": [
       "\"The phone is too good. I prefer to buy this phone. Low Budget excellent phone. Large Display size and smooth task finishing.. And I'm reviewing this in two days. I have added some photos which are clicked on this phone.THANK YOU\""
      ]
     },
     "execution_count": 21,
     "metadata": {},
     "output_type": "execute_result"
    }
   ],
   "source": [
    "comment_box[0].div.div.find_all('div',{\"class\":''})[0].div.text"
   ]
  },
  {
   "cell_type": "code",
   "execution_count": 22,
   "id": "7bf20252-9189-4125-83ec-c841714a1698",
   "metadata": {},
   "outputs": [
    {
     "name": "stdout",
     "output_type": "stream",
     "text": [
      "The phone is too good. I prefer to buy this phone. Low Budget excellent phone. Large Display size and smooth task finishing.. And I'm reviewing this in two days. I have added some photos which are clicked on this phone.THANK YOU\n",
      "Nice mobile 👌\n",
      "Very good a quality\n",
      "Good product 👌\n",
      "One of the best mobile in present. Looking and using nice. All features like battery, display, network, charging, camera, designs are very perfect.\n",
      "Good phone\n",
      "Best.... Value of money\n",
      "Very nice phone\n",
      "Best in the market in this price range 💗Loved it !!\n",
      "Nice 👍\n"
     ]
    },
    {
     "ename": "AttributeError",
     "evalue": "'NoneType' object has no attribute 'div'",
     "output_type": "error",
     "traceback": [
      "\u001b[1;31m---------------------------------------------------------------------------\u001b[0m",
      "\u001b[1;31mAttributeError\u001b[0m                            Traceback (most recent call last)",
      "Cell \u001b[1;32mIn[22], line 2\u001b[0m\n\u001b[0;32m      1\u001b[0m \u001b[38;5;28;01mfor\u001b[39;00m i \u001b[38;5;129;01min\u001b[39;00m comment_box:\n\u001b[1;32m----> 2\u001b[0m     \u001b[38;5;28mprint\u001b[39m(\u001b[43mi\u001b[49m\u001b[38;5;241;43m.\u001b[39;49m\u001b[43mdiv\u001b[49m\u001b[38;5;241;43m.\u001b[39;49m\u001b[43mdiv\u001b[49m\u001b[38;5;241m.\u001b[39mfind_all(\u001b[38;5;124m'\u001b[39m\u001b[38;5;124mdiv\u001b[39m\u001b[38;5;124m'\u001b[39m,{\u001b[38;5;124m\"\u001b[39m\u001b[38;5;124mclass\u001b[39m\u001b[38;5;124m\"\u001b[39m:\u001b[38;5;124m'\u001b[39m\u001b[38;5;124m'\u001b[39m})[\u001b[38;5;241m0\u001b[39m]\u001b[38;5;241m.\u001b[39mdiv\u001b[38;5;241m.\u001b[39mtext)\n",
      "\u001b[1;31mAttributeError\u001b[0m: 'NoneType' object has no attribute 'div'"
     ]
    }
   ],
   "source": [
    "for i in comment_box:\n",
    "    print(i.div.div.find_all('div',{\"class\":''})[0].div.text)"
   ]
  }
 ],
 "metadata": {
  "kernelspec": {
   "display_name": "Python 3 (ipykernel)",
   "language": "python",
   "name": "python3"
  },
  "language_info": {
   "codemirror_mode": {
    "name": "ipython",
    "version": 3
   },
   "file_extension": ".py",
   "mimetype": "text/x-python",
   "name": "python",
   "nbconvert_exporter": "python",
   "pygments_lexer": "ipython3",
   "version": "3.11.5"
  }
 },
 "nbformat": 4,
 "nbformat_minor": 5
}
